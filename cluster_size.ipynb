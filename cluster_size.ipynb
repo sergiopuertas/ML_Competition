{
 "cells": [
  {
   "cell_type": "code",
   "execution_count": null,
   "id": "initial_id",
   "metadata": {
    "collapsed": true
   },
   "outputs": [],
   "source": [
    "import pandas as pd\n",
    "import ast\n",
    "import matplotlib.pyplot as plt\n",
    "from sklearn.cluster import KMeans\n",
    "df = pd.read_csv('train_clean.csv')"
   ]
  },
  {
   "cell_type": "code",
   "execution_count": null,
   "outputs": [],
   "source": [
    "from sklearn.metrics import silhouette_score"
   ],
   "metadata": {
    "collapsed": false
   },
   "id": "24119b0cbd464a50"
  },
  {
   "cell_type": "code",
   "execution_count": null,
   "outputs": [],
   "source": [
    "df['END'] = df['END'].apply(lambda x: ast.literal_eval(x) if isinstance(x, str) else x)\n",
    "\n",
    "coordinates = pd.DataFrame(df['END'].tolist(), columns=['longitude', 'latitude'])\n"
   ],
   "metadata": {
    "collapsed": false
   },
   "id": "ccfcbc198974953a"
  },
  {
   "cell_type": "code",
   "execution_count": null,
   "outputs": [],
   "source": [
    "range_clusters = range(500, 3500,1000) \n",
    "inertias = []\n",
    "silhouette_scores = []"
   ],
   "metadata": {
    "collapsed": false
   },
   "id": "e9ae623f01922810"
  },
  {
   "cell_type": "code",
   "execution_count": null,
   "outputs": [],
   "source": [
    "for n_clusters in range_clusters:\n",
    "    kmeans = KMeans(n_clusters=n_clusters, random_state=42)\n",
    "    kmeans.fit(coordinates)\n",
    "    inertias.append(kmeans.inertia_)\n",
    "    if n_clusters > 1:\n",
    "        score = silhouette_score(coordinates, kmeans.labels_)\n",
    "        silhouette_scores.append(score)"
   ],
   "metadata": {
    "collapsed": false
   },
   "id": "6af639b422669947"
  },
  {
   "cell_type": "code",
   "execution_count": null,
   "outputs": [],
   "source": [
    "plt.figure(figsize=(8, 4))\n",
    "plt.plot(range_clusters, inertias, '-o')\n",
    "plt.title('Elbow Method For Optimal k')\n",
    "plt.xlabel('Number of clusters')\n",
    "plt.ylabel('Inertia')\n",
    "plt.xticks(range_clusters)\n",
    "plt.show()"
   ],
   "metadata": {
    "collapsed": false
   },
   "id": "654f34a7eb3e3d1c"
  },
  {
   "cell_type": "code",
   "execution_count": null,
   "outputs": [],
   "source": [
    "if silhouette_scores:\n",
    "    plt.figure(figsize=(8, 4))\n",
    "    plt.plot(range_clusters[1:], silhouette_scores, '-o')\n",
    "    plt.title('Silhouette Score For Each k')\n",
    "    plt.xlabel('Number of clusters')\n",
    "    plt.ylabel('Silhouette Score')\n",
    "    plt.xticks(range_clusters)\n",
    "    plt.show()"
   ],
   "metadata": {
    "collapsed": false
   },
   "id": "109a9497858f00c3"
  }
 ],
 "metadata": {
  "kernelspec": {
   "display_name": "Python 3",
   "language": "python",
   "name": "python3"
  },
  "language_info": {
   "codemirror_mode": {
    "name": "ipython",
    "version": 2
   },
   "file_extension": ".py",
   "mimetype": "text/x-python",
   "name": "python",
   "nbconvert_exporter": "python",
   "pygments_lexer": "ipython2",
   "version": "2.7.6"
  }
 },
 "nbformat": 4,
 "nbformat_minor": 5
}
