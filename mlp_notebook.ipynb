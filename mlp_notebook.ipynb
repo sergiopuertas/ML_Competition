{
 "cells": [
  {
   "cell_type": "code",
   "execution_count": 1,
   "id": "initial_id",
   "metadata": {
    "collapsed": true,
    "ExecuteTime": {
     "end_time": "2023-12-14T17:27:26.731060Z",
     "start_time": "2023-12-14T17:27:23.410048Z"
    }
   },
   "outputs": [],
   "source": [
    "import torch\n",
    "import torch.nn as nn\n",
    "from sklearn.cluster import KMeans\n",
    "import pandas as pd\n",
    "\n",
    "import ast\n",
    "import matplotlib.pyplot as plt\n",
    "from metrics import haversine\n"
   ]
  },
  {
   "cell_type": "code",
   "execution_count": 2,
   "outputs": [],
   "source": [
    "class TaxiMLP(nn.Module):\n",
    "    def __init__(self, input_size, hidden_size=500, num_clusters=3392):\n",
    "        super(TaxiMLP, self).__init__()\n",
    "        self.fc1 = nn.Linear(input_size, hidden_size)\n",
    "        self.relu = nn.ReLU()\n",
    "        self.fc2 = nn.Linear(hidden_size, num_clusters)\n",
    "\n",
    "    def forward(self, x):\n",
    "        x = self.fc1(x)\n",
    "        x = self.relu(x)\n",
    "        x = self.fc2(x)\n",
    "        return x\n"
   ],
   "metadata": {
    "collapsed": false,
    "ExecuteTime": {
     "end_time": "2023-12-14T17:27:26.738612Z",
     "start_time": "2023-12-14T17:27:26.734636Z"
    }
   },
   "id": "e3d4c23be527dc9d"
  },
  {
   "cell_type": "code",
   "execution_count": 3,
   "outputs": [],
   "source": [
    "def equirectangular_distance(pred, true, R = 6371):\n",
    "    lambda_pred, phi_pred = pred[:, 0], pred[:, 1]\n",
    "    lambda_true, phi_true = true[:, 0], true[:, 1]\n",
    "    x = (lambda_true - lambda_pred) * torch.cos((phi_true + phi_pred) / 2)\n",
    "    y = phi_true - phi_pred\n",
    "    return R * torch.sqrt(x ** 2 + y ** 2)"
   ],
   "metadata": {
    "collapsed": false,
    "ExecuteTime": {
     "end_time": "2023-12-14T17:27:26.745440Z",
     "start_time": "2023-12-14T17:27:26.739714Z"
    }
   },
   "id": "92a7a4f881264aef"
  },
  {
   "cell_type": "code",
   "execution_count": 4,
   "outputs": [],
   "source": [
    "def compute_destination(output, cluster_centroids):\n",
    "    return torch.matmul(output, cluster_centroids)"
   ],
   "metadata": {
    "collapsed": false,
    "ExecuteTime": {
     "end_time": "2023-12-14T17:27:26.745632Z",
     "start_time": "2023-12-14T17:27:26.742775Z"
    }
   },
   "id": "1dab427edff519d6"
  },
  {
   "cell_type": "code",
   "execution_count": 5,
   "outputs": [],
   "source": [
    "def evaluate_predictions(pred_clusters, true_clusters, cluster_centroids):\n",
    "    pred_coords = cluster_centroids[pred_clusters]\n",
    "    true_coords = cluster_centroids[true_clusters]\n",
    "    distances = haversine(pred_coords, true_coords)\n",
    "    return distances.mean()"
   ],
   "metadata": {
    "collapsed": false,
    "ExecuteTime": {
     "end_time": "2023-12-14T17:27:26.753289Z",
     "start_time": "2023-12-14T17:27:26.747450Z"
    }
   },
   "id": "fa85f3e42a6de185"
  },
  {
   "cell_type": "code",
   "execution_count": null,
   "outputs": [],
   "source": [
    "df = pd.read_csv('train_clean.csv')\n",
    "train_losses = []"
   ],
   "metadata": {
    "collapsed": false
   },
   "id": "14b96b408ed1109c"
  },
  {
   "cell_type": "code",
   "execution_count": null,
   "outputs": [],
   "source": [
    "kmeans = KMeans(n_clusters=3392, random_state=42)"
   ],
   "metadata": {
    "collapsed": false
   },
   "id": "2caa27b3ee06299e"
  },
  {
   "cell_type": "code",
   "execution_count": null,
   "outputs": [],
   "source": [
    "df['END'] = df['END'].apply(ast.literal_eval)"
   ],
   "metadata": {
    "collapsed": false
   },
   "id": "3568dfa5956f4bde"
  },
  {
   "cell_type": "code",
   "execution_count": null,
   "outputs": [],
   "source": [
    "destination_coordinates = pd.DataFrame(df['END'].tolist(), columns=['longitude', 'latitude'])"
   ],
   "metadata": {
    "collapsed": false
   },
   "id": "2dc873b50103244a"
  },
  {
   "cell_type": "code",
   "execution_count": null,
   "outputs": [],
   "source": [
    "df['CLUSTER'] = kmeans.fit_predict(destination_coordinates)"
   ],
   "metadata": {
    "collapsed": false
   },
   "id": "fbe59db98155dddd"
  },
  {
   "cell_type": "code",
   "execution_count": null,
   "outputs": [],
   "source": [
    "cluster_centers = torch.tensor(kmeans.cluster_centers_, dtype=torch.float)"
   ],
   "metadata": {
    "collapsed": false
   },
   "id": "f1b59985ba271a22"
  },
  {
   "cell_type": "code",
   "execution_count": null,
   "outputs": [],
   "source": [
    "\n",
    "num_clusters = kmeans.n_clusters"
   ],
   "metadata": {
    "collapsed": false
   },
   "id": "2527ec2e49fb96e3"
  },
  {
   "cell_type": "code",
   "execution_count": null,
   "outputs": [],
   "source": [],
   "metadata": {
    "collapsed": false
   },
   "id": "d4ed55350f383926"
  },
  {
   "cell_type": "code",
   "execution_count": null,
   "outputs": [],
   "source": [
    "\n"
   ],
   "metadata": {
    "collapsed": false
   },
   "id": "5ba5e82d21ba1150"
  },
  {
   "cell_type": "code",
   "execution_count": null,
   "outputs": [],
   "source": [
    "df['CALL_TYPE'].replace({'A': 1, 'B': 2, 'C': 3},inplace=True)\n",
    "df['DAY_TYPE'].replace({'A': 1, 'B': 2, 'C': 3},inplace=True)"
   ],
   "metadata": {
    "collapsed": false
   },
   "id": "5d79cd15ee561c1f"
  },
  {
   "cell_type": "code",
   "execution_count": null,
   "outputs": [],
   "source": [
    "df = df.drop(['END', 'N_POINTS', 'START', 'TRIP_ID'], axis=1)"
   ],
   "metadata": {
    "collapsed": false
   },
   "id": "9f3ca0f4528d41cd"
  },
  {
   "cell_type": "code",
   "execution_count": 6,
   "outputs": [],
   "source": [
    "\n",
    "df = pd.read_csv('train_clean_clustered.csv')"
   ],
   "metadata": {
    "collapsed": false,
    "ExecuteTime": {
     "end_time": "2023-12-14T17:28:19.231909Z",
     "start_time": "2023-12-14T17:27:29.581194Z"
    }
   },
   "id": "1159c29ab922b3db"
  },
  {
   "cell_type": "code",
   "execution_count": 7,
   "outputs": [],
   "source": [
    "df['POLYLINE'] = df['POLYLINE'].apply(lambda x: ast.literal_eval(x) if isinstance(x, str) else x)"
   ],
   "metadata": {
    "collapsed": false,
    "ExecuteTime": {
     "end_time": "2023-12-14T17:47:03.328704Z",
     "start_time": "2023-12-14T17:28:19.236627Z"
    }
   },
   "id": "554b168f2f9dca27"
  },
  {
   "cell_type": "code",
   "execution_count": 8,
   "outputs": [],
   "source": [
    "polylines_tensors = [torch.tensor(pol, dtype=torch.float) for pol in df['POLYLINE'] if pol]"
   ],
   "metadata": {
    "collapsed": false,
    "ExecuteTime": {
     "end_time": "2023-12-14T17:48:02.719954Z",
     "start_time": "2023-12-14T17:47:03.487201Z"
    }
   },
   "id": "444e3e837c201178"
  },
  {
   "cell_type": "code",
   "execution_count": 9,
   "outputs": [],
   "source": [
    "from torch.nn.utils.rnn import pad_sequence\n",
    "max_length = max(pol.size(0) for pol in polylines_tensors)\n",
    "inputs = pad_sequence(polylines_tensors, batch_first=True)"
   ],
   "metadata": {
    "collapsed": false,
    "ExecuteTime": {
     "end_time": "2023-12-14T17:48:35.566413Z",
     "start_time": "2023-12-14T17:48:02.765399Z"
    }
   },
   "id": "7738068242c14b64"
  },
  {
   "cell_type": "code",
   "execution_count": 10,
   "outputs": [],
   "source": [
    "additional_features = torch.tensor(df[['CALL_TYPE', 'DAY_TYPE', 'ORIGIN_CALL', 'ORIGIN_STAND']].fillna(0).values, dtype=torch.float)"
   ],
   "metadata": {
    "collapsed": false,
    "ExecuteTime": {
     "end_time": "2023-12-14T17:48:35.911356Z",
     "start_time": "2023-12-14T17:48:35.604279Z"
    }
   },
   "id": "691751891a5d841f"
  },
  {
   "cell_type": "code",
   "execution_count": 11,
   "outputs": [],
   "source": [
    "additional_features = additional_features.unsqueeze(1) "
   ],
   "metadata": {
    "collapsed": false,
    "ExecuteTime": {
     "end_time": "2023-12-14T17:48:35.911677Z",
     "start_time": "2023-12-14T17:48:35.907704Z"
    }
   },
   "id": "733144297cd47221"
  },
  {
   "cell_type": "code",
   "execution_count": null,
   "outputs": [],
   "source": [
    "additional_features = additional_features.repeat(1, inputs.shape[1], 1)"
   ],
   "metadata": {
    "collapsed": false,
    "is_executing": true,
    "ExecuteTime": {
     "start_time": "2023-12-14T17:48:35.916101Z"
    }
   },
   "id": "90f08d381c0c524e"
  },
  {
   "cell_type": "code",
   "execution_count": null,
   "outputs": [],
   "source": [
    "torch.save(additional_features,'nonseq.pt')"
   ],
   "metadata": {
    "collapsed": false,
    "is_executing": true
   },
   "id": "54d659929737c55b"
  },
  {
   "cell_type": "code",
   "execution_count": null,
   "outputs": [],
   "source": [
    "inputs = torch.cat((inputs, additional_features), dim=2)"
   ],
   "metadata": {
    "collapsed": false,
    "is_executing": true
   },
   "id": "daa89fbac5dacafb"
  },
  {
   "cell_type": "code",
   "execution_count": null,
   "outputs": [],
   "source": [
    "targets = torch.tensor(df['CLUSTER'], dtype=torch.long)"
   ],
   "metadata": {
    "collapsed": false,
    "is_executing": true
   },
   "id": "7dbbed1e4b37974e"
  },
  {
   "cell_type": "code",
   "execution_count": null,
   "outputs": [],
   "source": [
    "torch.save(targets,'targets.pt')"
   ],
   "metadata": {
    "collapsed": false,
    "is_executing": true
   },
   "id": "e07e017317acc429"
  },
  {
   "cell_type": "code",
   "execution_count": null,
   "outputs": [],
   "source": [
    "torch.save(inputs,'inputs.pt')"
   ],
   "metadata": {
    "collapsed": false,
    "is_executing": true
   },
   "id": "dfde0b57c5f79b77"
  },
  {
   "cell_type": "code",
   "execution_count": null,
   "outputs": [],
   "source": [
    "from torch.utils.data import TensorDataset\n",
    "dataset = TensorDataset(inputs, targets)"
   ],
   "metadata": {
    "collapsed": false,
    "is_executing": true
   },
   "id": "ca34cb3afc319467"
  },
  {
   "cell_type": "code",
   "execution_count": null,
   "outputs": [],
   "source": [
    "from torch.utils.data import DataLoader\n",
    "data_loader = DataLoader(dataset, batch_size=64, shuffle=True)"
   ],
   "metadata": {
    "collapsed": false,
    "is_executing": true
   },
   "id": "153d2552a1147d6d"
  },
  {
   "cell_type": "code",
   "execution_count": null,
   "outputs": [],
   "source": [
    "model = TaxiMLP(6, num_clusters=3392)\n",
    "optimizer = torch.optim.SGD(model.parameters(), lr=0.01, momentum=0.9)\n"
   ],
   "metadata": {
    "collapsed": false,
    "is_executing": true
   },
   "id": "ed69c4ff66c95c12"
  },
  {
   "cell_type": "code",
   "execution_count": null,
   "outputs": [],
   "source": [],
   "metadata": {
    "collapsed": false
   },
   "id": "8f3fcc3ff375c6d2"
  },
  {
   "cell_type": "code",
   "execution_count": null,
   "outputs": [],
   "source": [
    "for epoch in range(5):\n",
    "    epoch_loss_hav = 0\n",
    "    for inputs, targets in data_loader:\n",
    "        outputs = model(inputs)\n",
    "        destinations = compute_destination(outputs, cluster_centers)\n",
    "        loss = equirectangular_distance(destinations, targets)\n",
    "\n",
    "        destinations = destinations.cpu().detach().numpy()\n",
    "        targets = targets.cpu().detach().numpy()\n",
    "        loss_haversine = haversine(destinations, targets)\n",
    "\n",
    "        optimizer.zero_grad()\n",
    "        loss.backward()\n",
    "        optimizer.step()\n",
    "        epoch_loss_hav += loss_haversine.item()\n",
    "\n",
    "    print('epoch: ', epoch)\n",
    "    print('loss: ', epoch_loss_hav)\n",
    "    train_losses.append(epoch_loss_hav / len(data_loader))\n",
    "\n",
    "plt.plot(train_losses, label='Train Loss')\n",
    "plt.xlabel('Epoch')\n",
    "plt.ylabel('Loss')\n",
    "plt.title('Training Loss Over Time (Haversine Distance)')\n",
    "plt.legend()\n",
    "plt.show()"
   ],
   "metadata": {
    "collapsed": false,
    "is_executing": true
   },
   "id": "5581bab3aed44a94"
  }
 ],
 "metadata": {
  "kernelspec": {
   "display_name": "Python 3",
   "language": "python",
   "name": "python3"
  },
  "language_info": {
   "codemirror_mode": {
    "name": "ipython",
    "version": 2
   },
   "file_extension": ".py",
   "mimetype": "text/x-python",
   "name": "python",
   "nbconvert_exporter": "python",
   "pygments_lexer": "ipython2",
   "version": "2.7.6"
  }
 },
 "nbformat": 4,
 "nbformat_minor": 5
}
